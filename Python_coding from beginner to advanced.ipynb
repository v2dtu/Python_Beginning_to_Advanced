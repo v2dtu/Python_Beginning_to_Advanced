{
 "cells": [
  {
   "cell_type": "code",
   "execution_count": 5,
   "metadata": {},
   "outputs": [
    {
     "name": "stdout",
     "output_type": "stream",
     "text": [
      "How are you?: fine\n",
      "Thank you for telling me you are fine\n"
     ]
    }
   ],
   "source": [
    "question = input('Hello! How are you?: ')\n",
    "print('Thank you for telling me you are', question)"
   ]
  },
  {
   "cell_type": "code",
   "execution_count": 6,
   "metadata": {},
   "outputs": [
    {
     "name": "stdout",
     "output_type": "stream",
     "text": [
      "v is 29 and her main hobby is cooking\n"
     ]
    }
   ],
   "source": [
    "name = 'v'\n",
    "age = 29\n",
    "hobby = 'cooking'\n",
    "print('{} is {} and her main hobby is {}'.format(name, age, hobby))"
   ]
  },
  {
   "cell_type": "code",
   "execution_count": 9,
   "metadata": {},
   "outputs": [
    {
     "name": "stdout",
     "output_type": "stream",
     "text": [
      "What is your name? v\n",
      "Can you please provide a number: 2\n",
      "Can you please provide a second number: 3\n",
      "Can you please provide a third number: 4\n",
      "Hello v, thank you for inputing 2, 3, 4 as your three numbers. And final result is 20\n"
     ]
    }
   ],
   "source": [
    "'''\n",
    "Practical \n",
    "- ask the user their name\n",
    "have the user provide three numbers\n",
    "add the first two numbers together, then multiply result with third\n",
    "output result in a long sentence that includes user's name, numbers, and the result\n",
    "'''\n",
    "name = input('What is your name? ')\n",
    "number1 = int(input('Can you please provide a number: '))\n",
    "number2 = int(input('Can you please provide a second number: '))\n",
    "number3 = int(input('Can you please provide a third number: '))\n",
    "result = (number1+number2)*number3\n",
    "print('Hello {}, thank you for inputing {}, {}, {} as your three numbers. And the final result is {}.'.format(name, number1, number2, number3, result))"
   ]
  },
  {
   "cell_type": "code",
   "execution_count": 10,
   "metadata": {},
   "outputs": [
    {
     "name": "stdout",
     "output_type": "stream",
     "text": [
      "Please enter a weight in pound: 500\n",
      "This program will convert the weight from pound to kilograms\n",
      "500 pounds is 227.27272727272725 in Kg.\n"
     ]
    }
   ],
   "source": [
    "'''\n",
    "create a programme that converts pounds to kg\n",
    "-allows the user to input a weight in pound, and outputs weight in kg'''\n",
    "user_pound = int(input('Please enter a weight in pound: '))\n",
    "print('This program will convert the weight from pound to kilograms')\n",
    "kg = user_pound/2.2\n",
    "print('{} pounds is {} Kg.'.format(user_pound, kg))"
   ]
  },
  {
   "cell_type": "code",
   "execution_count": 2,
   "metadata": {},
   "outputs": [
    {
     "data": {
      "text/plain": [
       "13"
      ]
     },
     "execution_count": 2,
     "metadata": {},
     "output_type": "execute_result"
    }
   ],
   "source": [
    "from random import randint\n",
    "randint(1,100)"
   ]
  },
  {
   "cell_type": "code",
   "execution_count": 14,
   "metadata": {},
   "outputs": [
    {
     "name": "stdout",
     "output_type": "stream",
     "text": [
      "Hello! The value of dice roll 1 is 4, and the value of dice roll 2 is 3.\n",
      "The combined total value of the dice roll is: 7\n"
     ]
    }
   ],
   "source": [
    "'''\n",
    "-Create a program that stimulates two dices being rolled\n",
    "-In the program give a message to the user sayin what the two dice values are and their combined total.'''\n",
    "import random as rd\n",
    "dice1=rd.randint(1,6)\n",
    "dice2=rd.randint(1,6)\n",
    "print('Hello! The value of dice roll 1 is {}, and the value of dice roll 2 is {}.'.format(dice1,dice2))\n",
    "combine=dice1+dice2\n",
    "print('The combined total value of the dice roll is: ' + str(combine))"
   ]
  },
  {
   "cell_type": "code",
   "execution_count": 25,
   "metadata": {},
   "outputs": [
    {
     "name": "stdout",
     "output_type": "stream",
     "text": [
      "Please guess a number between 1-100. 20\n",
      "The random number is 28, your guess is 20.\n",
      "Your guess was lower than the number\n"
     ]
    }
   ],
   "source": [
    "'''\n",
    "-choose a number between 1-100\n",
    "-takes a user guess and tells them if they are correct or not\n",
    "bonus: tell the user if their guess was lower or higher than the computers number'''\n",
    "from random import randint\n",
    "num1= randint(1,100)\n",
    "user_num = int(input('Please guess a number between 1-100. '))\n",
    "print('The random number is {}, your guess is {}.'.format(num1, user_num))\n",
    "if user_num == num1:\n",
    "    print('Congrats! You have guessed the right number!!')\n",
    "elif user_num > num1:\n",
    "        print('Your guess was higher than the number')\n",
    "elif user_num < num1:\n",
    "        print('Your guess was lower than the number')\n",
    "else:\n",
    "    print('Better luck next time! That is not the correct number.')"
   ]
  },
  {
   "cell_type": "code",
   "execution_count": null,
   "metadata": {},
   "outputs": [],
   "source": [
    "'''\n",
    "List methods - mylist.append():\n",
    "-append\n",
    "-remove\n",
    "-pop (pop last value off list)\n",
    "-sort\n",
    "-reverse\n",
    "List functions - len(mylist):\n",
    "-len()\n",
    "-min()\n",
    "-max()\n",
    "'''"
   ]
  },
  {
   "cell_type": "code",
   "execution_count": 26,
   "metadata": {},
   "outputs": [
    {
     "name": "stdout",
     "output_type": "stream",
     "text": [
      "3\n"
     ]
    }
   ],
   "source": [
    "#index lists\n",
    "word = 'word'\n",
    "mylist=[1,4,7,'hi',88,[1,2,3,4],word]\n",
    "a = mylist[5][2]\n",
    "print(a)"
   ]
  },
  {
   "cell_type": "code",
   "execution_count": 2,
   "metadata": {},
   "outputs": [
    {
     "data": {
      "text/plain": [
       "[2, 'cheese', 998, 210]"
      ]
     },
     "execution_count": 2,
     "metadata": {},
     "output_type": "execute_result"
    }
   ],
   "source": [
    "#slice list\n",
    "list1=[1,2,3,'cheese',778,998,583,210,'cat','dog']\n",
    "list1[1:8:2]"
   ]
  },
  {
   "cell_type": "code",
   "execution_count": 11,
   "metadata": {},
   "outputs": [
    {
     "name": "stdout",
     "output_type": "stream",
     "text": [
      "Welcome to twister spinner! right foot-yellow.\n"
     ]
    }
   ],
   "source": [
    "'''\n",
    "Create a program that emulates a twister spinner\n",
    "each time the programme is run it outputs one of each of the following (at random):\n",
    "-one colour (red, greem blue, yellow)\n",
    "-left or right hand/left or right foot'''\n",
    "import random\n",
    "colour=['red','green','blue','yellow']\n",
    "position=['left hand','right hand','left foot','right foot']\n",
    "twi_col=random.choice(colour)\n",
    "twi_pos=random.choice(position)\n",
    "print('Welcome to twister spinner! {}-{}.'.format(twi_pos,twi_col))"
   ]
  },
  {
   "cell_type": "code",
   "execution_count": 30,
   "metadata": {},
   "outputs": [
    {
     "data": {
      "text/plain": [
       "['a', 'b']"
      ]
     },
     "execution_count": 30,
     "metadata": {},
     "output_type": "execute_result"
    }
   ],
   "source": [
    "'''\n",
    "create a list\n",
    "-add a list in this list, then another list within this list\n",
    "-each list must contain at least four elements)\n",
    "-access the first two elements of the list within the original list\n",
    "-access the last threee lements of the list within the list within the list\n",
    "-output the whole thing backwards'''\n",
    "ult_list=[0,1,2,3,4,['a','b','c','d',[123,456,789,999], 'e']]\n",
    "ult_list[5][:2]"
   ]
  },
  {
   "cell_type": "code",
   "execution_count": 28,
   "metadata": {},
   "outputs": [
    {
     "data": {
      "text/plain": [
       "[456, 789, 999]"
      ]
     },
     "execution_count": 28,
     "metadata": {},
     "output_type": "execute_result"
    }
   ],
   "source": [
    "ult_list[5][4][1:]"
   ]
  },
  {
   "cell_type": "code",
   "execution_count": 31,
   "metadata": {},
   "outputs": [
    {
     "data": {
      "text/plain": [
       "[['a', 'b', 'c', 'd', [123, 456, 789, 999], 'e'], 4, 3, 2, 1, 0]"
      ]
     },
     "execution_count": 31,
     "metadata": {},
     "output_type": "execute_result"
    }
   ],
   "source": [
    "ult_list[::-1]"
   ]
  },
  {
   "cell_type": "code",
   "execution_count": 12,
   "metadata": {},
   "outputs": [
    {
     "name": "stdout",
     "output_type": "stream",
     "text": [
      "0\n",
      "1\n",
      "2\n"
     ]
    }
   ],
   "source": [
    "for i in range (3):\n",
    "    print(i)"
   ]
  },
  {
   "cell_type": "code",
   "execution_count": 49,
   "metadata": {},
   "outputs": [
    {
     "name": "stdout",
     "output_type": "stream",
     "text": [
      "2\n",
      "5\n",
      "6\n",
      "88\n",
      "90\n"
     ]
    }
   ],
   "source": [
    "#continue & break\n",
    "lista=[2,5,6,88,90,100,500]\n",
    "for number in lista:\n",
    "    if number >=100:\n",
    "        break\n",
    "    else:\n",
    "        print(number)       "
   ]
  },
  {
   "cell_type": "code",
   "execution_count": 54,
   "metadata": {},
   "outputs": [
    {
     "name": "stdout",
     "output_type": "stream",
     "text": [
      "[0, 1, 2, 3, 4, 5, 6, 7, 8, 9, 10, 11, 12, 13, 14, 15, 16, 17, 18, 19]\n",
      "[0, 2, 4, 6, 8, 10, 12, 14, 16, 18, 20, 22, 24, 26, 28, 30, 32, 34, 36, 38, 40, 42, 44, 46, 48]\n",
      "[0, 2, 4, 6, 8, 10, 12, 14, 16, 18, 20, 22, 24, 26, 28, 30]\n"
     ]
    }
   ],
   "source": [
    "#List comprehension\n",
    "#quick way of creating new lists\n",
    "list1=[x for x in range(20)]\n",
    "print(list1)\n",
    "#with condition (ie, if x%2==0)\n",
    "even_list = [x for x in range(50) if x%2==0]\n",
    "print(even_list)\n",
    "#filter a list with new condition\n",
    "modified_evenlist=[x for x in even_list if x<=30]\n",
    "print(modified_evenlist)"
   ]
  },
  {
   "cell_type": "code",
   "execution_count": 12,
   "metadata": {},
   "outputs": [
    {
     "name": "stdout",
     "output_type": "stream",
     "text": [
      "V\n",
      "T\n",
      "Millie\n",
      "29\n",
      "28\n",
      "4\n"
     ]
    }
   ],
   "source": [
    "'''Dictionaries'''\n",
    "#basic dictionaries\n",
    "diction={'V':29,'T':28,'Millie':4}\n",
    "#accessing a value\n",
    "diction['Millie']\n",
    "#accessing all key:value pairs\n",
    "for pair in diction:\n",
    "    print(pair)\n",
    "for pair in diction:\n",
    "    print(diction[pair])"
   ]
  },
  {
   "cell_type": "code",
   "execution_count": 10,
   "metadata": {},
   "outputs": [
    {
     "name": "stdout",
     "output_type": "stream",
     "text": [
      "{'V': 29, 'T': 28, 'Millie': 3}\n"
     ]
    }
   ],
   "source": [
    "#changin/adding  & removing dictionaries\n",
    "diction['Millie'] = 3\n",
    "diction['Zac']= 5\n",
    "diction.pop('Zac')\n",
    "print(diction)"
   ]
  },
  {
   "cell_type": "code",
   "execution_count": 37,
   "metadata": {},
   "outputs": [
    {
     "name": "stdout",
     "output_type": "stream",
     "text": [
      "Please enter the amount in USD: 100\n",
      "Please enter the desired currency: gbp\n",
      "The currency you have requested is not available, sorry!\n"
     ]
    }
   ],
   "source": [
    "'''Practical\n",
    "-create a programme that contains info on currency conversion rates from usd to four other currencies\n",
    "-user can enter in an amount in USD and the currency they want to convert it into\n",
    "-the programme then outputs the amount in the new currency'''\n",
    "currency= {'cad':1.41, 'jpy':109.16, 'eur':0.93, 'aud':1.64}\n",
    "amount=int(input('Please enter the amount in USD: '))\n",
    "convert=input('Please enter the desired currency: ').lower()\n",
    "if convert in currency:\n",
    "    converted_amount=amount*currency[convert]\n",
    "    print('The currency you have requested is in {} and the converted amount is {}'.format(convert, converted_amount))\n",
    "else:\n",
    "    print('The currency you have requested is not available, sorry!')"
   ]
  },
  {
   "cell_type": "code",
   "execution_count": 6,
   "metadata": {},
   "outputs": [
    {
     "name": "stdout",
     "output_type": "stream",
     "text": [
      "The randomly generated number is: 74\n",
      "Please guess a number between 1 and 10045\n",
      "Too low!\n",
      "Please guess a number between 1 and 10030\n",
      "Too low!\n",
      "Please guess a number between 1 and 10090\n",
      "Too high!\n",
      "Please guess a number between 1 and 10074\n",
      "You guessed right!\n"
     ]
    }
   ],
   "source": [
    "'''\n",
    "-choose a number between 1-100\n",
    "-takes a user guess and tells them if they are correct or not\n",
    "bonus: tell the user if their guess was lower or higher than the computers number\n",
    "Number guessing game - part2\n",
    "-Make it so that the user only has to run the programme once, and can keep guessing until they get it right. '''\n",
    "from random import randint\n",
    "random_no = randint(1,100)\n",
    "print('The randomly generated number is: {}'.format(random_no))\n",
    "while 'play' == 'play':\n",
    "    user = int(input('Please guess a number between 1 and 100'))\n",
    "    if user == random_no:\n",
    "        print('You guessed right!')\n",
    "        break\n",
    "    elif user >= random_no:\n",
    "        print('Too high!')\n",
    "    elif user <= random_no:\n",
    "        print('Too low!')"
   ]
  },
  {
   "cell_type": "code",
   "execution_count": 2,
   "metadata": {},
   "outputs": [
    {
     "name": "stdout",
     "output_type": "stream",
     "text": [
      "15\n",
      "Guess a number between 1 - 20: 2\n",
      "Ooops wrong guess! You have 4 lives left....\n",
      "6\n",
      "Guess a number between 1 - 20: 3\n",
      "Ooops wrong guess! You have 3 lives left....\n",
      "18\n",
      "Guess a number between 1 - 20: 18\n",
      "Cngrats! 18 is the right number!\n"
     ]
    }
   ],
   "source": [
    "'''Create another game:\n",
    "-user has to do something against the computer (eg guess random number, select a random element from a list)\n",
    "-have a condition where the user can lose lives based on their guess\n",
    "-user has five lives per game\n",
    "-when they run out of lives the game ends and they get a game over message'''\n",
    "import random\n",
    "guess = 5\n",
    "while 1==1:\n",
    "    list1=[i for i in range(1,21)]\n",
    "    randlist=random.choice(list1)\n",
    "    print(randlist)\n",
    "    user = int(input('Guess a number between 1 - 20: '))\n",
    "    if user == randlist:\n",
    "        print('Congrats! {} is the right number!'.format(user))\n",
    "        break\n",
    "    else:\n",
    "        guess= guess-1\n",
    "        print('Ooops wrong guess! You have {} lives left....'.format(guess))\n",
    "    if guess == 0:\n",
    "        break\n",
    "        print('Sorry, GAME OVER!')\n",
    "            "
   ]
  },
  {
   "cell_type": "code",
   "execution_count": 6,
   "metadata": {},
   "outputs": [
    {
     "name": "stdout",
     "output_type": "stream",
     "text": [
      "What is your name? Bill\n",
      "Good morning Bill! How are you?? Have a great day!\n"
     ]
    }
   ],
   "source": [
    "def welcome_message():\n",
    "    print('Good morning {}! How are you?? Have a great day!'.format(name))\n",
    "name = input('What is your name? ')\n",
    "if name == 'Bill':\n",
    "    welcome_message()\n",
    "elif name == 'Ashley':\n",
    "    welcome_message()\n",
    "else:\n",
    "    print('Have a great day!')"
   ]
  },
  {
   "cell_type": "code",
   "execution_count": 1,
   "metadata": {},
   "outputs": [
    {
     "name": "stdout",
     "output_type": "stream",
     "text": [
      "Welcome to tic tac toe! Would you like to play against computer or friend (c or f)? c\n",
      "Computer chose space 5.\n",
      " | | \n",
      " |x| \n",
      " | | \n",
      "Choose a number between 1 & 9: 2\n",
      " |o| \n",
      " |x| \n",
      " | | \n",
      "Computer chose space 6.\n",
      " |o| \n",
      " |x|x\n",
      " | | \n",
      "Choose a number between 1 & 9: 4\n",
      " |o| \n",
      "o|x|x\n",
      " | | \n",
      "Computer chose space 7.\n",
      " |o| \n",
      "o|x|x\n",
      "x| | \n",
      "Choose a number between 1 & 9: 1\n",
      "o|o| \n",
      "o|x|x\n",
      "x| | \n",
      "Computer chose space 5.\n",
      "Space already taken, try another one!\n",
      "Computer chose space 6.\n",
      "Space already taken, try another one!\n",
      "Computer chose space 4.\n",
      "Space already taken, try another one!\n",
      "Computer chose space 4.\n",
      "Space already taken, try another one!\n",
      "Computer chose space 7.\n",
      "Space already taken, try another one!\n",
      "Computer chose space 8.\n",
      "o|o| \n",
      "o|x|x\n",
      "x|x| \n",
      "Choose a number between 1 & 9: 3\n",
      "o|o|o\n",
      "o|x|x\n",
      "x|x| \n",
      "Hoooooray! o has won!\n",
      "End of Game\n"
     ]
    }
   ],
   "source": [
    "'''Part1\n",
    "Create a board for tic tac toe where user can enter a space between 1-9 and an x will appear in that spot\n",
    "-user can then do the same and an o will appear'''\n",
    "'''Part2\n",
    "-If the user tries to enter a space that is already taken, they are not allowed and have to try again\n",
    "-If the user gets three in a row, game ends and the winner is announced'''\n",
    "'''Part3\n",
    "-user can choose whether to play with a friend (the same keyboard) or against the computer\n",
    "-design the computer to make its own moves'''\n",
    "import random\n",
    "board = [\" \"]*9\n",
    "def draw_board(board):\n",
    "    row1=('{}|{}|{}'.format(board[0],board[1],board[2]))\n",
    "    row2=('{}|{}|{}'.format(board[3],board[4],board[5]))\n",
    "    row3=('{}|{}|{}'.format(board[6],board[7],board[8]))\n",
    "    print(row1+'\\n'+row2+'\\n'+row3)\n",
    "\n",
    "def user_sel(board,selection):\n",
    "    user_input=int(input('Choose a number between 1 & 9: ')) -1\n",
    "    if board[user_input] != ' ':\n",
    "        print('Space already taken, try another one!')\n",
    "        user_sel(board, selection)\n",
    "    else:\n",
    "        board[user_input]=selection\n",
    "        draw_board(board)\n",
    "        \n",
    "def check_win(board,x_o):\n",
    "    if board[0] == x_o and board[1] == x_o and board[2] == x_o or board[3] == x_o and board[4] == x_o and board[5] == x_o or board[6] == x_o and board[7] == x_o and board[8] == x_o or board[0] == x_o and board[3] == x_o and board[6] == x_o or board[1] == x_o and board[4] == x_o and board[7] == x_o or board[2] == x_o and board[5] == x_o and board[8] == x_o or board[0] == x_o and board[4] == x_o and board[8] == x_o or board[2] == x_o and board[4] == x_o and board[6] == x_o:\n",
    "        game = False\n",
    "        print('Hoooooray! {} has won!'.format(x_o))\n",
    "    else:\n",
    "        game = True\n",
    "    return game\n",
    "\n",
    "def comp_game(board, AIselect):\n",
    "    AI = random.randint(1,9)\n",
    "    print('Computer chose space {}.'.format(AI))\n",
    "    AI-=1\n",
    "    if board[AI] != ' ':\n",
    "        print('Space already taken, try another one!')\n",
    "        comp_game(board, AIselect)\n",
    "    else:\n",
    "        board[AI]=AIselect\n",
    "        draw_board(board)\n",
    "'''Alternative way\n",
    "def comp_move(baord, user_type):\n",
    "    computer_choice = random.choice(available spaces)\n",
    "    board[computer_choice]=user_type\n",
    "    available_spaces.remove(computer_choice)\n",
    "    *have a new available_spaces = [0,1,2,3,4,5,6,7,8] at start of code, also add available_space.remove(user_choice) at user_move'''\n",
    "\n",
    "comp_choose = input('Welcome to tic tac toe! Would you like to play against computer or friend (c or f)? ')\n",
    "game = True\n",
    "while game == True:\n",
    "    if comp_choose == 'c':\n",
    "        comp_game(board, 'x')\n",
    "    elif comp_choose =='f':\n",
    "        user_sel(board, 'x')\n",
    "    game = check_win(board,'x')\n",
    "    if game == False:\n",
    "        continue\n",
    "    user_sel(board, 'o')\n",
    "    game = check_win(board,'o')\n",
    "print('End of Game')\n"
   ]
  },
  {
   "cell_type": "markdown",
   "metadata": {},
   "source": [
    " \n",
    "        \n",
    "\n",
    "        \n",
    "    \n",
    "        "
   ]
  },
  {
   "cell_type": "code",
   "execution_count": 2,
   "metadata": {},
   "outputs": [],
   "source": [
    "import requests\n",
    "url = 'http://nzherald.co.nz'\n",
    "response = requests.get(url)\n",
    "#response.content"
   ]
  },
  {
   "cell_type": "code",
   "execution_count": 8,
   "metadata": {},
   "outputs": [
    {
     "name": "stdout",
     "output_type": "stream",
     "text": [
      "Please enter the currency you have: jpy\n",
      "Please enter the amount you wish to exchange to USD: 100\n",
      "You have converted JPY 100 into 0.9183638975745655 USD.\n"
     ]
    }
   ],
   "source": [
    "'''Find a working API where we can access currencies(preferably with USD as the base currency) **important: the API must provide a json\n",
    "Create a programme that can take a users currency and amount, and convert it into USD'''\n",
    "currency = 'https://api.exchangeratesapi.io/latest?base=USD'\n",
    "response = requests.get(currency)\n",
    "info = response.json()\n",
    "user_currency = input('Please enter the currency you have: ').upper()\n",
    "user_amount = int(input('Please enter the amount you wish to exchange to USD: '))\n",
    "if user_currency in info['rates']:\n",
    "    converted_USD = user_amount/info['rates'][user_currency]\n",
    "    print('You have converted {} {} into {} USD.'.format(user_currency,user_amount,converted_USD))\n",
    "else:\n",
    "    print('Sorry, this currency is not availble')"
   ]
  },
  {
   "cell_type": "code",
   "execution_count": 1,
   "metadata": {},
   "outputs": [
    {
     "name": "stdout",
     "output_type": "stream",
     "text": [
      "Current number of Covid-19 cases Global is 1684833, retrieved at 2020-04-12T00:56:25.629Z.\n",
      "Current number of Covid-19 cases Global is 1684833, retrieved at 2020-04-12T00:56:25.629Z.\n",
      "Current number of Covid-19 cases Global is 1684833, retrieved at 2020-04-12T00:56:25.629Z.\n",
      "Current number of Covid-19 cases Global is 1684833, retrieved at 2020-04-12T00:56:25.629Z.\n",
      "Current number of Covid-19 cases Global is 1684833, retrieved at 2020-04-12T00:56:25.629Z.\n",
      "Current number of Covid-19 cases Global is 1684833, retrieved at 2020-04-12T00:56:25.629Z.\n",
      "Current number of Covid-19 cases Global is 1684833, retrieved at 2020-04-12T00:56:25.629Z.\n"
     ]
    },
    {
     "ename": "KeyboardInterrupt",
     "evalue": "",
     "output_type": "error",
     "traceback": [
      "\u001b[1;31m---------------------------------------------------------------------------\u001b[0m",
      "\u001b[1;31mKeyboardInterrupt\u001b[0m                         Traceback (most recent call last)",
      "\u001b[1;32m<ipython-input-1-43e2c385c134>\u001b[0m in \u001b[0;36m<module>\u001b[1;34m\u001b[0m\n\u001b[0;32m     15\u001b[0m \u001b[1;32mwhile\u001b[0m \u001b[1;32mTrue\u001b[0m\u001b[1;33m:\u001b[0m\u001b[1;33m\u001b[0m\u001b[1;33m\u001b[0m\u001b[0m\n\u001b[0;32m     16\u001b[0m     \u001b[0mcovid_case\u001b[0m\u001b[1;33m(\u001b[0m\u001b[1;33m)\u001b[0m\u001b[1;33m\u001b[0m\u001b[1;33m\u001b[0m\u001b[0m\n\u001b[1;32m---> 17\u001b[1;33m     \u001b[0mtime\u001b[0m\u001b[1;33m.\u001b[0m\u001b[0msleep\u001b[0m\u001b[1;33m(\u001b[0m\u001b[1;36m1\u001b[0m\u001b[1;33m)\u001b[0m\u001b[1;33m\u001b[0m\u001b[1;33m\u001b[0m\u001b[0m\n\u001b[0m",
      "\u001b[1;31mKeyboardInterrupt\u001b[0m: "
     ]
    }
   ],
   "source": [
    "'''\n",
    "-Access data from coinmarketcap - cant api no longer available..try the currency one maybe?\n",
    "-output current value of bitcoin\n",
    "-Bonus: Have the value automatically update every five seconds (research the time module) & output the current time and date'''\n",
    "import requests\n",
    "import time\n",
    "def covid_case():\n",
    "    covid = 'https://bing.com/covid/data'\n",
    "    response = requests.get(covid)\n",
    "    covid_info = response.json()\n",
    "    area = covid_info['displayName']\n",
    "    cases = covid_info['totalConfirmed']\n",
    "    time = covid_info['lastUpdated']\n",
    "    print('Current number of Covid-19 cases {} is {}, retrieved at {}.'.format(area,cases,time))\n",
    "while True:\n",
    "    covid_case()\n",
    "    time.sleep(1)"
   ]
  },
  {
   "cell_type": "code",
   "execution_count": null,
   "metadata": {},
   "outputs": [],
   "source": []
  }
 ],
 "metadata": {
  "kernelspec": {
   "display_name": "Python 3",
   "language": "python",
   "name": "python3"
  },
  "language_info": {
   "codemirror_mode": {
    "name": "ipython",
    "version": 3
   },
   "file_extension": ".py",
   "mimetype": "text/x-python",
   "name": "python",
   "nbconvert_exporter": "python",
   "pygments_lexer": "ipython3",
   "version": "3.7.1"
  }
 },
 "nbformat": 4,
 "nbformat_minor": 2
}
